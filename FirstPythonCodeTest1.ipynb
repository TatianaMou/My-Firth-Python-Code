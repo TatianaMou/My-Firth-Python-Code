{
 "cells": [
  {
   "cell_type": "code",
   "execution_count": 1,
   "id": "ca81574b",
   "metadata": {},
   "outputs": [
    {
     "name": "stdout",
     "output_type": "stream",
     "text": [
      "practice textpractice textpractice textpractice textpractice text\n"
     ]
    }
   ],
   "source": [
    "x = \"practice text\"\n",
    "\n",
    "y = 5\n",
    "\n",
    "print(x*5)"
   ]
  },
  {
   "cell_type": "code",
   "execution_count": null,
   "id": "c2080226",
   "metadata": {},
   "outputs": [],
   "source": []
  }
 ],
 "metadata": {
  "kernelspec": {
   "display_name": "Python 3 (ipykernel)",
   "language": "python",
   "name": "python3"
  },
  "language_info": {
   "codemirror_mode": {
    "name": "ipython",
    "version": 3
   },
   "file_extension": ".py",
   "mimetype": "text/x-python",
   "name": "python",
   "nbconvert_exporter": "python",
   "pygments_lexer": "ipython3",
   "version": "3.9.13"
  }
 },
 "nbformat": 4,
 "nbformat_minor": 5
}
